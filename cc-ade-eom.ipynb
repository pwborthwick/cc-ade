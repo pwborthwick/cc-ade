{
 "cells": [
  {
   "cell_type": "markdown",
   "id": "bdced36f",
   "metadata": {},
   "source": [
    "### Algebraic Evaluation of Coupled-Cluster Diagrams - EOM"
   ]
  },
  {
   "attachments": {
    "feynman%283%29.png": {
     "image/png": "[encoded data removed]"
    }
   },
   "cell_type": "markdown",
   "id": "7fc34978",
   "metadata": {},
   "source": [
    "The cc-ade code is easily extended to Equation-of-Motion coupled-cluster.\n",
    "\n",
    "__the exponential series__\n",
    "\n",
    "The series expansion for EOM CCSD is\n",
    "$S=R_1 + T_1 R_1 + T_2 R_1 + \\frac{1}{2} T_1^2 R_1 + R_2 + T_1 R_2$ or $R_1\\big(1 + T_1 + T_2 + \\frac{1}{2}T_1^2 \\big ) + R_2 \\big ( 1+ T_1 \\big)$. \n",
    "\n",
    "The CCSD singles expansion is $1 + T_1 + T_2 + \\frac{1}{2} T_1^2 + T_1 T_2 + \\frac{1}{6} T_1^3$ which is of order 3 in amplitudes. If we consider R to be an amplitude then the EOM-CCSD series is also of order 3 or CCSD to order 2 times $R_1$ plus CCSD to order 1 times $R_2$.\n",
    "\n",
    "The doubles are $D=R_1 + T_1 R_1 + T_2 R_1 + \\frac{1}{2} T_1^2 R_1 + T_1 T_2 R_1 + \\frac{1}{6} T_1^3 R_1 + R_2 + T_1 R_2 + T_2 R_2 + \\frac{1}{2} T_1^2 R_2$ = $R_1 \\big(1 + T_1 + T_2 + \\frac{1}{2}T_1^2 + T_1 T_2 + \\frac{1}{6}T_1^3 \\big ) + R_2 \\big (1 + T_1 + T_2 + \\frac{1}{2}T_1^2 \\big)$.\n",
    "\n",
    "This is CCSD order 3 times $R_1$ and again CCSD to order 2 times $R_2$. As we can already compute the $T_n$ series all we need to do is a multiplication by $R_n$ for the EOM series.\n",
    "\n",
    "__reference id__\n",
    "\n",
    "In cc-ade we referenced each term as eg '1100'. This is interpreted as $1xT_1 1xT_2 0xT_3 0xT_4$. For cc-eom-ade we reference as eg '1100n' where n is the degree of the r-amplitude, so '21002' would be a $T_1^2 T_2 R_2$ term.R is treated the same as T in the code with the convention that the last amplitude is always the (single) R one. This requires minor changes to the existing code. The same rules for determining the sign and factor of a diagram apply with caveat that when determining equivalant vertices $R_n$ and $T_n$ amplitudes should not be considered as equivalent.\n",
    "\n",
    "__labelling__\n",
    "\n",
    "Consider \n",
    "![feynman%283%29.png](attachment:feynman%283%29.png)\n",
    "\n",
    "This is a __+--__ as __+-|-__ contracted with __+-|++--__. If we forget that the first amplitude is an __r__ we would have algorithm a.24 $$\\boldsymbol{t^{(+)e}_{(-)m} t^{(+)}_{n[-)} \\scriptsize{\\langle mn\\Vert [e \\rangle}}~~~~~a.24$$\n",
    "\n",
    "So we would label $t^c_k t^{ab}_{lj} \\langle kl \\Vert ic \\rangle$. Our sign is + and $\\hat{P}(ij)$ If we keep the r-amplitude as the last term all we need do from cc-ade is rename the last 't' to 'r'. The *lablib* developed for cc-ade is completely compatible with eom-cc-ade.\n",
    "\n",
    "__validation__\n",
    "\n",
    "For S and D levels each diagram is referenced and a *reference.txt* file is provided in the *eom_validation* folder. The einsum expressions in the *reference.txt* folder are taken from Josh Goings pychem repo."
   ]
  },
  {
   "cell_type": "code",
   "execution_count": null,
   "id": "7691d117",
   "metadata": {},
   "outputs": [],
   "source": []
  }
 ],
 "metadata": {
  "kernelspec": {
   "display_name": "Python 3",
   "language": "python",
   "name": "python3"
  },
  "language_info": {
   "codemirror_mode": {
    "name": "ipython",
    "version": 3
   },
   "file_extension": ".py",
   "mimetype": "text/x-python",
   "name": "python",
   "nbconvert_exporter": "python",
   "pygments_lexer": "ipython3",
   "version": "3.6.9"
  }
 },
 "nbformat": 4,
 "nbformat_minor": 5
}
